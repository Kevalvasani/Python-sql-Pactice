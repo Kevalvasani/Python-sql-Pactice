{
 "cells": [
  {
   "cell_type": "code",
   "execution_count": 30,
   "metadata": {},
   "outputs": [
    {
     "name": "stdout",
     "output_type": "stream",
     "text": [
      "55\n"
     ]
    }
   ],
   "source": [
    "def sum(a,b):\n",
    "    print(a+b)\n",
    "sum(23,32)"
   ]
  },
  {
   "cell_type": "code",
   "execution_count": 40,
   "metadata": {},
   "outputs": [
    {
     "name": "stdout",
     "output_type": "stream",
     "text": [
      "hii\n"
     ]
    }
   ],
   "source": [
    "def keval():\n",
    "    return 'hii'\n",
    "\n",
    "def name():\n",
    "    msg = keval()\n",
    "    print(msg)\n",
    "\n",
    "name()"
   ]
  },
  {
   "cell_type": "code",
   "execution_count": 32,
   "metadata": {},
   "outputs": [
    {
     "data": {
      "text/plain": [
       "120"
      ]
     },
     "execution_count": 32,
     "metadata": {},
     "output_type": "execute_result"
    }
   ],
   "source": [
    "def fact(a):\n",
    "    fact=1\n",
    "    for i in range(1,a+1):\n",
    "        fact*=i \n",
    "    return fact\n",
    "fact(5)"
   ]
  },
  {
   "cell_type": "code",
   "execution_count": 3,
   "metadata": {},
   "outputs": [
    {
     "name": "stdout",
     "output_type": "stream",
     "text": [
      "Good morning\n",
      "My name name is Keval\n",
      "Thank you for using decorator\n"
     ]
    }
   ],
   "source": [
    "def start(middle):\n",
    "    def head():\n",
    "        print(\"Good morning\")\n",
    "        middle()\n",
    "        print(\"Thank you for using decorator\")\n",
    "    return head\n",
    "@start\n",
    "def name():\n",
    "    print(\"My name name is Keval\")\n",
    "name()"
   ]
  },
  {
   "cell_type": "code",
   "execution_count": 6,
   "metadata": {},
   "outputs": [
    {
     "data": {
      "text/plain": [
       "720"
      ]
     },
     "execution_count": 6,
     "metadata": {},
     "output_type": "execute_result"
    }
   ],
   "source": [
    "def Recur_facto(n): \n",
    "\tif (n == 0): \n",
    "\t\treturn 1\n",
    "\treturn n * Recur_facto(n-1) \n",
    "Recur_facto(6)"
   ]
  },
  {
   "cell_type": "code",
   "execution_count": 10,
   "metadata": {},
   "outputs": [
    {
     "name": "stdout",
     "output_type": "stream",
     "text": [
      "keval\n",
      "vasani\n"
     ]
    }
   ],
   "source": [
    "def Names(*argv):\n",
    "    for i in argv:\n",
    "        print(i)\n",
    "Names('keval','vasani')"
   ]
  },
  {
   "cell_type": "code",
   "execution_count": 5,
   "metadata": {},
   "outputs": [
    {
     "name": "stdout",
     "output_type": "stream",
     "text": [
      "keval\n",
      "deepak\n",
      "vasani\n"
     ]
    }
   ],
   "source": [
    "\n",
    "def myFun(**kwargs):\n",
    "    for key, value in kwargs.items():\n",
    "        print(f\"{value}\")\n",
    " \n",
    "myFun(first='keval', mid='deepak', last='vasani')"
   ]
  },
  {
   "cell_type": "code",
   "execution_count": 43,
   "metadata": {},
   "outputs": [
    {
     "name": "stdout",
     "output_type": "stream",
     "text": [
      "('hiren', 23, 32, 'patel')\n"
     ]
    }
   ],
   "source": [
    "def request(*args):\n",
    "    print(args)\n",
    "    \n",
    "def hiren():\n",
    "    name = 'hiren'\n",
    "    request(name,23,32,'patel')\n",
    "hiren()"
   ]
  },
  {
   "cell_type": "code",
   "execution_count": 63,
   "metadata": {},
   "outputs": [
    {
     "name": "stdout",
     "output_type": "stream",
     "text": [
      "Keval\n",
      "Deepak\n",
      "Vasani\n",
      "Keval\n",
      "chandrika\n",
      "Vasani\n"
     ]
    }
   ],
   "source": [
    "def f_name(func):\n",
    "    def fl_name():\n",
    "       # m_name=func()\n",
    "        print(\"Keval\")\n",
    "        func()\n",
    "        # print(m_name)\n",
    "        print(\"Vasani\")\n",
    "    return fl_name\n",
    "@f_name\n",
    "def middle():\n",
    "    print(\"Deepak\")\n",
    "middle()\n",
    "\n",
    "@f_name\n",
    "def mummy():\n",
    "    print(\"chandrika\")\n",
    "mummy()"
   ]
  },
  {
   "cell_type": "code",
   "execution_count": 69,
   "metadata": {},
   "outputs": [
    {
     "data": {
      "text/plain": [
       "120"
      ]
     },
     "execution_count": 69,
     "metadata": {},
     "output_type": "execute_result"
    }
   ],
   "source": [
    "def factorial(n):\n",
    "    if n<=0:\n",
    "        return 1\n",
    "    else:\n",
    "        return n*factorial(n-1)\n",
    "factorial(5)"
   ]
  },
  {
   "cell_type": "code",
   "execution_count": 7,
   "metadata": {},
   "outputs": [
    {
     "name": "stdout",
     "output_type": "stream",
     "text": [
      "144\n"
     ]
    }
   ],
   "source": [
    "def fibonacci(n):\n",
    "    if n<0:\n",
    "        print(\"Input Invalid\")\n",
    "    elif n==0:\n",
    "        return 1\n",
    "    elif n==1 or n==2:\n",
    "        return 1\n",
    "    else:\n",
    "        return fibonacci(n-1)+ fibonacci(n-2)\n",
    "print(fibonacci(12))"
   ]
  },
  {
   "cell_type": "code",
   "execution_count": 12,
   "metadata": {},
   "outputs": [
    {
     "name": "stdout",
     "output_type": "stream",
     "text": [
      "args :  ('keval', 'dixit')\n",
      "kwargs :  {'age': 24, 'ages': 22}\n"
     ]
    }
   ],
   "source": [
    "def Name(*args,**kwargs):\n",
    "    print('args : ',args)\n",
    "    print('kwargs : ',kwargs)\n",
    "Name('keval','dixit',age=24,ages=22)"
   ]
  },
  {
   "cell_type": "code",
   "execution_count": null,
   "metadata": {},
   "outputs": [],
   "source": []
  }
 ],
 "metadata": {
  "kernelspec": {
   "display_name": "Python 3",
   "language": "python",
   "name": "python3"
  },
  "language_info": {
   "codemirror_mode": {
    "name": "ipython",
    "version": 3
   },
   "file_extension": ".py",
   "mimetype": "text/x-python",
   "name": "python",
   "nbconvert_exporter": "python",
   "pygments_lexer": "ipython3",
   "version": "3.12.0"
  }
 },
 "nbformat": 4,
 "nbformat_minor": 2
}
