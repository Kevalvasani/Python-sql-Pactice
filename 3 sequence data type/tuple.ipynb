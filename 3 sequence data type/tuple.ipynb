{
 "cells": [
  {
   "cell_type": "code",
   "execution_count": 4,
   "metadata": {},
   "outputs": [
    {
     "name": "stdout",
     "output_type": "stream",
     "text": [
      "3\n"
     ]
    }
   ],
   "source": [
    "t=(12,23,45,32,56,67,78,54,54,67,34,23,56,22,55,54)\n",
    "p=t.count(54)\n",
    "print(p)"
   ]
  },
  {
   "cell_type": "code",
   "execution_count": 6,
   "metadata": {},
   "outputs": [
    {
     "name": "stdout",
     "output_type": "stream",
     "text": [
      "4\n"
     ]
    }
   ],
   "source": [
    "t=(12,23,45,32,56,67,78,54,54,67,34,23,56,22,55,54)\n",
    "p=t.index(56)\n",
    "print(p)"
   ]
  },
  {
   "cell_type": "code",
   "execution_count": 3,
   "metadata": {},
   "outputs": [
    {
     "name": "stdout",
     "output_type": "stream",
     "text": [
      "(12, 23, 45, 32, 56, 67, 78, 54, 54, 67, 34, 23, 56, 22, 55, 54)\n"
     ]
    }
   ],
   "source": [
    "t=(12,23,45,32,56,67,78,54)\n",
    "g=(54,67,34,23,56,22,55,54)\n",
    "s=t+g\n",
    "print(s)"
   ]
  },
  {
   "cell_type": "code",
   "execution_count": 8,
   "metadata": {},
   "outputs": [
    {
     "name": "stdout",
     "output_type": "stream",
     "text": [
      "1\n"
     ]
    }
   ],
   "source": [
    "t=(\"k\",\"q\",\"w\",\"a\",\"d\",\"t\",\"h\",)\n",
    "p=t.index(\"q\")\n",
    "print(p)"
   ]
  },
  {
   "cell_type": "code",
   "execution_count": 11,
   "metadata": {},
   "outputs": [
    {
     "name": "stdout",
     "output_type": "stream",
     "text": [
      "1 5\n"
     ]
    }
   ],
   "source": [
    "t=(\"k\",\"q\",\"w\",\"a\",\"d\",\"t\",\"h\",)\n",
    "p=t.index(\"q\")\n",
    "l=t.index(\"t\")\n",
    "print(p,l)"
   ]
  },
  {
   "cell_type": "code",
   "execution_count": 16,
   "metadata": {},
   "outputs": [
    {
     "name": "stdout",
     "output_type": "stream",
     "text": [
      "4\n"
     ]
    }
   ],
   "source": [
    "t=(\"k\",\"q\",\"w\",\"a\",\"d\",\"t\",\"h\",\"q\",\"q\",\"q\")\n",
    "p=t.count(\"q\")\n",
    "print(p)"
   ]
  }
 ],
 "metadata": {
  "kernelspec": {
   "display_name": "Python 3",
   "language": "python",
   "name": "python3"
  },
  "language_info": {
   "codemirror_mode": {
    "name": "ipython",
    "version": 3
   },
   "file_extension": ".py",
   "mimetype": "text/x-python",
   "name": "python",
   "nbconvert_exporter": "python",
   "pygments_lexer": "ipython3",
   "version": "3.12.0"
  }
 },
 "nbformat": 4,
 "nbformat_minor": 2
}
