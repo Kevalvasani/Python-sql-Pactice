{
 "cells": [
  {
   "cell_type": "code",
   "execution_count": 1,
   "metadata": {},
   "outputs": [
    {
     "name": "stdout",
     "output_type": "stream",
     "text": [
      "{32, 34, 67, 12, 45, 78, 23, 54, 55, 56, 22}\n"
     ]
    }
   ],
   "source": [
    "s={12,23,45,32,56,67,78,54,54,67,34,23,56,22,55,54}\n",
    "print(s)"
   ]
  },
  {
   "cell_type": "code",
   "execution_count": 6,
   "metadata": {},
   "outputs": [
    {
     "name": "stdout",
     "output_type": "stream",
     "text": [
      "{32, 34, 67, 12, 45, 78, 23, 54, 55, 56, 22, 29}\n"
     ]
    }
   ],
   "source": [
    "s={32, 34, 67, 12, 45, 78, 23, 54, 55, 56, 22}\n",
    "s.add(29)\n",
    "print(s)"
   ]
  },
  {
   "cell_type": "code",
   "execution_count": 8,
   "metadata": {},
   "outputs": [
    {
     "name": "stdout",
     "output_type": "stream",
     "text": [
      "set()\n"
     ]
    }
   ],
   "source": [
    "s={32, 34, 67, 12, 45, 78, 23, 54, 55, 56, 22}\n",
    "s.clear()\n",
    "print(s)"
   ]
  },
  {
   "cell_type": "code",
   "execution_count": 4,
   "metadata": {},
   "outputs": [
    {
     "name": "stdout",
     "output_type": "stream",
     "text": [
      "{67, 12, 45, 78, 23, 54, 55, 56}\n"
     ]
    }
   ],
   "source": [
    "s={34, 67, 12, 45, 78, 23, 54, 55, 56}\n",
    "s.pop()\n",
    "print(s)"
   ]
  },
  {
   "cell_type": "code",
   "execution_count": null,
   "metadata": {},
   "outputs": [],
   "source": [
    "s={34, 67, 12, 45, 78, 23, 54, 55, 56}\n",
    "s.pop()\n",
    "print(s)"
   ]
  },
  {
   "cell_type": "code",
   "execution_count": null,
   "metadata": {},
   "outputs": [],
   "source": []
  },
  {
   "cell_type": "code",
   "execution_count": 2,
   "metadata": {},
   "outputs": [
    {
     "name": "stdout",
     "output_type": "stream",
     "text": [
      "{67, 12, 45, 78, 23, 54, 56}\n"
     ]
    }
   ],
   "source": [
    "s={34, 67, 12, 45, 78, 23, 54, 55, 56}\n",
    "g={34,55,64,75}\n",
    "s.difference_update(g)\n",
    "print(s)"
   ]
  },
  {
   "cell_type": "code",
   "execution_count": 5,
   "metadata": {},
   "outputs": [
    {
     "name": "stdout",
     "output_type": "stream",
     "text": [
      "{34, 55}\n"
     ]
    }
   ],
   "source": [
    "s={34, 67, 12, 45, 78, 23, 54, 55, 56}\n",
    "g={34,55,64,75}\n",
    "h=s.intersection(g)\n",
    "print(h)"
   ]
  },
  {
   "cell_type": "code",
   "execution_count": 10,
   "metadata": {},
   "outputs": [
    {
     "name": "stdout",
     "output_type": "stream",
     "text": [
      "{67, 12, 45, 78, 23, 54, 55, 56}\n"
     ]
    }
   ],
   "source": [
    "s={34, 67, 12, 45, 78, 23, 54, 55, 56}\n",
    "s.discard(34)\n",
    "print(s)"
   ]
  },
  {
   "cell_type": "code",
   "execution_count": 13,
   "metadata": {},
   "outputs": [
    {
     "name": "stdout",
     "output_type": "stream",
     "text": [
      "{34, 55}\n"
     ]
    }
   ],
   "source": [
    "s={34, 67, 12, 45, 78, 23, 54, 55, 56}\n",
    "g={34,55,64,75}\n",
    "s.intersection_update(g)\n",
    "print(s)\n"
   ]
  },
  {
   "cell_type": "code",
   "execution_count": 26,
   "metadata": {},
   "outputs": [
    {
     "name": "stdout",
     "output_type": "stream",
     "text": [
      "{64, 34, 67, 75, 12, 45, 78, 23, 54, 55, 56}\n"
     ]
    }
   ],
   "source": [
    "\n",
    "s={34, 67, 12, 45, 78, 23, 54, 55, 56}\n",
    "g={64,75}\n",
    "s.update(g)\n",
    "print(s)"
   ]
  },
  {
   "cell_type": "code",
   "execution_count": 17,
   "metadata": {},
   "outputs": [
    {
     "name": "stdout",
     "output_type": "stream",
     "text": [
      "True\n"
     ]
    }
   ],
   "source": [
    "s={34, 67, 12, 45, 78, 23, 54, 55, 56}\n",
    "g={64,75}\n",
    "h=s.isdisjoint(g)\n",
    "print(h)"
   ]
  },
  {
   "cell_type": "code",
   "execution_count": 24,
   "metadata": {},
   "outputs": [
    {
     "name": "stdout",
     "output_type": "stream",
     "text": [
      "False\n"
     ]
    }
   ],
   "source": [
    "s={34, 67, 12, 45, 78, 23, 54, 55, 56}\n",
    "g={34,67}\n",
    "h=s.issubset(g)\n",
    "print(h)"
   ]
  },
  {
   "cell_type": "code",
   "execution_count": 23,
   "metadata": {},
   "outputs": [
    {
     "name": "stdout",
     "output_type": "stream",
     "text": [
      "True\n"
     ]
    }
   ],
   "source": [
    "\n",
    "s={34, 67, 12, 45, 78, 23, 54, 55, 56}\n",
    "g={34,67}\n",
    "h=s.issuperset(g)\n",
    "print(h)"
   ]
  },
  {
   "cell_type": "code",
   "execution_count": 16,
   "metadata": {},
   "outputs": [
    {
     "name": "stdout",
     "output_type": "stream",
     "text": [
      "{32, 34, 67, 12, 78, 23, 54, 55, 56, 22}\n"
     ]
    }
   ],
   "source": [
    "s={32, 34, 67, 12, 45, 78, 23, 54, 55, 56, 22}\n",
    "s.remove(45)\n",
    "print(s)"
   ]
  },
  {
   "cell_type": "code",
   "execution_count": 29,
   "metadata": {},
   "outputs": [
    {
     "name": "stdout",
     "output_type": "stream",
     "text": [
      "{34, 67, 12, 45, 78, 23, 54, 55, 56}\n"
     ]
    }
   ],
   "source": [
    "\n",
    "s={34, 67, 12, 45, 78, 23, 54, 55, 56}\n",
    "g={34,67,53}\n",
    "h=s.symmetric_difference(g)\n",
    "print(h)"
   ]
  },
  {
   "cell_type": "code",
   "execution_count": 31,
   "metadata": {},
   "outputs": [
    {
     "name": "stdout",
     "output_type": "stream",
     "text": [
      "{12, 45, 78, 23, 53, 54, 55, 56}\n"
     ]
    }
   ],
   "source": [
    "\n",
    "s={34, 67, 12, 45, 78, 23, 54, 55, 56}\n",
    "g={34,67,53}\n",
    "s.symmetric_difference_update(g)\n",
    "print(s)"
   ]
  },
  {
   "cell_type": "code",
   "execution_count": 32,
   "metadata": {},
   "outputs": [
    {
     "name": "stdout",
     "output_type": "stream",
     "text": [
      "{34, 67, 12, 45, 78, 23, 53, 54, 55, 56}\n"
     ]
    }
   ],
   "source": [
    "\n",
    "s={34, 67, 12, 45, 78, 23, 54, 55, 56}\n",
    "g={34,67,53}\n",
    "h=s.union(g)\n",
    "print(h)"
   ]
  },
  {
   "cell_type": "code",
   "execution_count": null,
   "metadata": {},
   "outputs": [],
   "source": []
  },
  {
   "cell_type": "code",
   "execution_count": null,
   "metadata": {},
   "outputs": [],
   "source": []
  }
 ],
 "metadata": {
  "kernelspec": {
   "display_name": "Python 3",
   "language": "python",
   "name": "python3"
  },
  "language_info": {
   "codemirror_mode": {
    "name": "ipython",
    "version": 3
   },
   "file_extension": ".py",
   "mimetype": "text/x-python",
   "name": "python",
   "nbconvert_exporter": "python",
   "pygments_lexer": "ipython3",
   "version": "3.12.0"
  }
 },
 "nbformat": 4,
 "nbformat_minor": 2
}
