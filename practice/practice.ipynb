{
 "cells": [
  {
   "cell_type": "code",
   "execution_count": 14,
   "metadata": {},
   "outputs": [
    {
     "name": "stdout",
     "output_type": "stream",
     "text": [
      "1\n",
      "{'id': '1002', 'type': 'Chocolate'}\n",
      "2\n",
      "{'id': '5006', 'type': 'Chocolate with Sprinkles'}\n",
      "2\n",
      "{'id': '5003', 'type': 'Chocolate'}\n"
     ]
    }
   ],
   "source": [
    "object  = {\n",
    "  \t\"id\": \"0001\",\n",
    "  \t\"type\": \"donut\",\n",
    "  \t\"name\": \"Cake\",\n",
    "  \t\"ppu\": 0.55,\n",
    "  \t\"batters\":\n",
    "  \t\t{\n",
    "  \t\t\t\"batter\":\n",
    "  \t\t\t\t[\n",
    "  \t\t\t\t\t{ \"id\": \"1001\", \"type\": \"Regular\" },\n",
    "  \t\t\t\t\t{ \"id\": \"1002\", \"type\": \"Chocolate\" },\n",
    "  \t\t\t\t\t{ \"id\": \"1003\", \"type\": \"Blueberry\" },\n",
    "  \t\t\t\t\t{ \"id\": \"1004\", \"type\": \"Devil's Food\" }\n",
    "  \t\t\t\t]\n",
    "  \t\t},\n",
    "  \"topping\":\n",
    "  \t\t[\n",
    "  \t\t\t{ \"id\": \"5001\", \"type\": \"None\" },\n",
    "  \t\t\t{ \"id\": \"5002\", \"type\": \"Glazed\" },\n",
    "  \t\t\t{ \"id\": \"5005\", \"type\": \"Sugar\" },\n",
    "  \t\t\t{ \"id\": \"5007\", \"type\": \"Powdered Sugar\" },\n",
    "  \t\t\t{ \"id\": \"5006\", \"type\": \"Chocolate with Sprinkles\" },\n",
    "  \t\t\t{ \"id\": \"5003\", \"type\": \"Chocolate\" },\n",
    "  \t\t\t{ \"id\": \"5004\", \"type\": \"Maple\" }\n",
    "  \t\t]\n",
    "  }\n",
    "for i in object[\"batters\"]['batter']:\n",
    "    if i['type']=='Chocolate':\n",
    "        print(1)\n",
    "        print(i)\n",
    "        \n",
    "\n",
    "for i in object['topping']:\n",
    "    if 'Chocolate' in i['type']:\n",
    "        print(2)\n",
    "        print(i)"
   ]
  },
  {
   "cell_type": "code",
   "execution_count": 16,
   "metadata": {},
   "outputs": [
    {
     "name": "stdout",
     "output_type": "stream",
     "text": [
      "5\n"
     ]
    }
   ],
   "source": [
    "arr = [10,4,5,3,5,3,6]\n",
    "a=[]\n",
    "for i in arr:\n",
    "    if i in a:\n",
    "        print(i)\n",
    "        break\n",
    "    else:\n",
    "        a.append(i)"
   ]
  },
  {
   "cell_type": "code",
   "execution_count": null,
   "metadata": {},
   "outputs": [],
   "source": []
  }
 ],
 "metadata": {
  "kernelspec": {
   "display_name": "Python 3",
   "language": "python",
   "name": "python3"
  },
  "language_info": {
   "codemirror_mode": {
    "name": "ipython",
    "version": 3
   },
   "file_extension": ".py",
   "mimetype": "text/x-python",
   "name": "python",
   "nbconvert_exporter": "python",
   "pygments_lexer": "ipython3",
   "version": "3.12.0"
  }
 },
 "nbformat": 4,
 "nbformat_minor": 2
}
