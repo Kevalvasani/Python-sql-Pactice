{
 "cells": [
  {
   "cell_type": "code",
   "execution_count": 1,
   "metadata": {},
   "outputs": [
    {
     "name": "stdout",
     "output_type": "stream",
     "text": [
      "hii\n"
     ]
    }
   ],
   "source": [
    "print(\"hii\")"
   ]
  },
  {
   "cell_type": "code",
   "execution_count": 3,
   "metadata": {},
   "outputs": [
    {
     "name": "stdout",
     "output_type": "stream",
     "text": [
      "It is a palindrome \n"
     ]
    }
   ],
   "source": [
    "def check_palindrome_1(string):\n",
    "    reversed_string = string[::-1]\n",
    "    status=1\n",
    "    if(string!=reversed_string):\n",
    "        status=0\n",
    "    return status\n",
    "\n",
    "\n",
    "string = input(\"Enter the string: \")\n",
    "status= check_palindrome_1(string)\n",
    "if(status):\n",
    "    print(\"It is a palindrome \")\n",
    "else:\n",
    "    print(\"Sorry! Try again\")"
   ]
  },
  {
   "cell_type": "code",
   "execution_count": 1,
   "metadata": {},
   "outputs": [
    {
     "name": "stdout",
     "output_type": "stream",
     "text": [
      "not palimdrome\n"
     ]
    }
   ],
   "source": [
    "def palim(s):\n",
    "    return s == s[::-1]\n",
    "s=\"kevak\"\n",
    "ans = palim(s)\n",
    "if ans:\n",
    "    print(\"palimdrome\")\n",
    "else:\n",
    "    print(\"not palimdrome\")"
   ]
  },
  {
   "cell_type": "code",
   "execution_count": null,
   "metadata": {},
   "outputs": [],
   "source": []
  }
 ],
 "metadata": {
  "kernelspec": {
   "display_name": "Python 3",
   "language": "python",
   "name": "python3"
  },
  "language_info": {
   "codemirror_mode": {
    "name": "ipython",
    "version": 3
   },
   "file_extension": ".py",
   "mimetype": "text/x-python",
   "name": "python",
   "nbconvert_exporter": "python",
   "pygments_lexer": "ipython3",
   "version": "3.12.0"
  }
 },
 "nbformat": 4,
 "nbformat_minor": 2
}
