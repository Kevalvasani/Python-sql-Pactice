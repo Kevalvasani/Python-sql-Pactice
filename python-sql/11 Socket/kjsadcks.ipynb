{
 "cells": [
  {
   "cell_type": "code",
   "execution_count": 5,
   "metadata": {},
   "outputs": [
    {
     "name": "stdout",
     "output_type": "stream",
     "text": [
      "['1', '2', '3', '4', '5', '6', '7', '9']\n",
      "9\n",
      "8\n"
     ]
    },
    {
     "data": {
      "text/plain": [
       "['1', '2', '3', '4', '5', '6', '7', '8']"
      ]
     },
     "execution_count": 5,
     "metadata": {},
     "output_type": "execute_result"
    }
   ],
   "source": [
    "stack=input(\" enter your data : \")\n",
    "list1=stack.split()\n",
    "print(list1)\n",
    "i_update=input(\" enter your which you want to update data : \")\n",
    "i_data=input(\" enter your data : \")\n",
    "print(i_update)\n",
    "print(i_data)\n",
    "def update(data,value):\n",
    "    for i in range(0,len(list1)):\n",
    "        if list1[i]==data:\n",
    "            list1[i]=value\n",
    "    return list1\n",
    "update(i_update,i_data)"
   ]
  },
  {
   "cell_type": "code",
   "execution_count": 14,
   "metadata": {},
   "outputs": [
    {
     "name": "stdout",
     "output_type": "stream",
     "text": [
      "Vasani\n",
      "Keval\n"
     ]
    }
   ],
   "source": [
    "class Node:\n",
    "    def __init__(self,data=None):\n",
    "        self.data=data\n",
    "        self.next=None\n",
    "class Linked:\n",
    "    def __init__(self):\n",
    "        self.head=None\n",
    "    def show(self):\n",
    "        node=self.head\n",
    "        while node is not None:\n",
    "            print(node.data)\n",
    "            node=node.next\n",
    "    def add(self,new):\n",
    "        new_node=Node(new)\n",
    "        new_node.next=self.head\n",
    "        self.head=new_node\n",
    "link=Linked()\n",
    "elem=Node(\"Keval\")\n",
    "link.head=elem\n",
    "link.add(\"Vasani\")\n",
    "link.show()"
   ]
  },
  {
   "cell_type": "code",
   "execution_count": 12,
   "metadata": {},
   "outputs": [],
   "source": []
  },
  {
   "cell_type": "code",
   "execution_count": null,
   "metadata": {},
   "outputs": [],
   "source": []
  },
  {
   "cell_type": "code",
   "execution_count": null,
   "metadata": {},
   "outputs": [],
   "source": []
  }
 ],
 "metadata": {
  "kernelspec": {
   "display_name": "Python 3",
   "language": "python",
   "name": "python3"
  },
  "language_info": {
   "codemirror_mode": {
    "name": "ipython",
    "version": 3
   },
   "file_extension": ".py",
   "mimetype": "text/x-python",
   "name": "python",
   "nbconvert_exporter": "python",
   "pygments_lexer": "ipython3",
   "version": "3.12.0"
  }
 },
 "nbformat": 4,
 "nbformat_minor": 2
}
