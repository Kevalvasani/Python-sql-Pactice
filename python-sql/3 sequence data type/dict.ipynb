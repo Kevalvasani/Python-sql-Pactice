{
 "cells": [
  {
   "cell_type": "code",
   "execution_count": 1,
   "metadata": {},
   "outputs": [
    {
     "name": "stdout",
     "output_type": "stream",
     "text": [
      "{1: 'keval', 2: 'Harshal', 3: 'Khushi'}\n"
     ]
    }
   ],
   "source": [
    "d={1:\"keval\",2:\"Harshal\",3:\"Khushi\"}\n",
    "print(d)"
   ]
  },
  {
   "cell_type": "code",
   "execution_count": 1,
   "metadata": {},
   "outputs": [
    {
     "name": "stdout",
     "output_type": "stream",
     "text": [
      "{1: 'keval', 2: 'keval', 3: 'keval'}\n"
     ]
    }
   ],
   "source": [
    "d={1:\"keval\",2:\"Harshal\",3:\"Khushi\"}\n",
    "s=\"keval\"\n",
    "f=dict.fromkeys(d,s)\n",
    "print(f)"
   ]
  },
  {
   "cell_type": "code",
   "execution_count": 8,
   "metadata": {},
   "outputs": [
    {
     "name": "stdout",
     "output_type": "stream",
     "text": [
      "{1: 'keval', 2: 'Harshal', 3: 'Khushi', 4: 'Preyash'}\n"
     ]
    }
   ],
   "source": [
    "d={1:\"keval\",2:\"Harshal\",3:\"Khushi\"}\n",
    "d.update({4:\"Preyash\"})\n",
    "print(d)"
   ]
  },
  {
   "cell_type": "code",
   "execution_count": 11,
   "metadata": {},
   "outputs": [
    {
     "name": "stdout",
     "output_type": "stream",
     "text": [
      "dict_keys([1, 2, 3])\n"
     ]
    }
   ],
   "source": [
    "d={1:\"keval\",2:\"Harshal\",3:\"Khushi\"}\n",
    "k=d.keys()\n",
    "print(k)"
   ]
  },
  {
   "cell_type": "code",
   "execution_count": 13,
   "metadata": {},
   "outputs": [
    {
     "name": "stdout",
     "output_type": "stream",
     "text": [
      "(3, 'Khushi')\n"
     ]
    }
   ],
   "source": [
    "d={1:\"keval\",2:\"Harshal\",3:\"Khushi\"}\n",
    "k=d.popitem()\n",
    "print(k)"
   ]
  },
  {
   "cell_type": "code",
   "execution_count": 15,
   "metadata": {},
   "outputs": [
    {
     "name": "stdout",
     "output_type": "stream",
     "text": [
      "{1: 'keval', 2: 'Hiren', 3: 'Khushi'}\n"
     ]
    }
   ],
   "source": [
    "d={1:\"keval\",2:\"Harshal\",3:\"Khushi\"}\n",
    "d[2]=\"Hiren\"\n",
    "print(d)"
   ]
  },
  {
   "cell_type": "code",
   "execution_count": 16,
   "metadata": {},
   "outputs": [
    {
     "name": "stdout",
     "output_type": "stream",
     "text": [
      "{1: 'keval', 2: 'Harshal', 3: 'Khushi', 4: 'Hiren'}\n"
     ]
    }
   ],
   "source": [
    "d={1:\"keval\",2:\"Harshal\",3:\"Khushi\"}\n",
    "d[4]=\"Hiren\"\n",
    "print(d)"
   ]
  },
  {
   "cell_type": "code",
   "execution_count": 20,
   "metadata": {},
   "outputs": [
    {
     "name": "stdout",
     "output_type": "stream",
     "text": [
      "{1: 'Keval', 2: 'Harshal', 3: 'Khushi'}\n"
     ]
    }
   ],
   "source": [
    "d={1:\"Keval\",2:\"Harshal\",3:\"Khushi\"}\n",
    "l=d.copy()\n",
    "print(l)"
   ]
  },
  {
   "cell_type": "code",
   "execution_count": 21,
   "metadata": {},
   "outputs": [
    {
     "name": "stdout",
     "output_type": "stream",
     "text": [
      "{1: {'name': 'keval'}, 2: {'name': 'Harshal'}, 3: {'name': 'Khushi'}}\n"
     ]
    }
   ],
   "source": [
    "d={1:{\"name\":\"keval\"},2:{\"name\":\"Harshal\"},3:{\"name\":\"Khushi\"} }\n",
    "print(d)"
   ]
  },
  {
   "cell_type": "code",
   "execution_count": 33,
   "metadata": {},
   "outputs": [
    {
     "name": "stdout",
     "output_type": "stream",
     "text": [
      "Khushi\n"
     ]
    }
   ],
   "source": [
    "d={1:{\"name\":\"keval\",\"age\":23},\n",
    "   2:{\"name\":\"Harshal\",\"age\":25},\n",
    "   3:{\"name\":\"Khushi\",\"age\":22} }\n",
    "print(d[3][\"name\"])"
   ]
  },
  {
   "cell_type": "code",
   "execution_count": 4,
   "metadata": {},
   "outputs": [
    {
     "name": "stdout",
     "output_type": "stream",
     "text": [
      "{1: {'name': 'keval'}, 2: {'name': 'Harshal'}, 3: {'name': 'Khushi'}}\n"
     ]
    }
   ],
   "source": [
    "d={1:{\"name\":\"keval\"},2:{\"name\":\"Harshal\"},3:{\"name\":\"Khushi\"} }\n",
    "d.values()\n",
    "print(d)"
   ]
  },
  {
   "cell_type": "code",
   "execution_count": 2,
   "metadata": {},
   "outputs": [
    {
     "name": "stdout",
     "output_type": "stream",
     "text": [
      "{1: 'keval', 2: 'Harshal', 3: 'Khushi'}\n"
     ]
    }
   ],
   "source": [
    "d={1:\"keval\",2:\"Harshal\",3:\"Khushi\"}\n",
    "l=d.copy()\n",
    "print(l)"
   ]
  },
  {
   "cell_type": "code",
   "execution_count": 4,
   "metadata": {},
   "outputs": [
    {
     "name": "stdout",
     "output_type": "stream",
     "text": [
      "None\n"
     ]
    }
   ],
   "source": [
    "d={1:\"keval\",2:\"Harshal\",3:\"Khushi\"}\n",
    "print(d.clear())"
   ]
  },
  {
   "cell_type": "code",
   "execution_count": 5,
   "metadata": {},
   "outputs": [
    {
     "name": "stdout",
     "output_type": "stream",
     "text": [
      "Harshal\n"
     ]
    }
   ],
   "source": [
    "d={1:\"keval\",2:\"Harshal\",3:\"Khushi\"}\n",
    "f=d.get(2)\n",
    "print(f)"
   ]
  },
  {
   "cell_type": "code",
   "execution_count": 7,
   "metadata": {},
   "outputs": [
    {
     "name": "stdout",
     "output_type": "stream",
     "text": [
      "dict_items([(1, 'keval'), (2, 'Harshal'), (3, 'Khushi')])\n"
     ]
    }
   ],
   "source": [
    "d={1:\"keval\",2:\"Harshal\",3:\"Khushi\"}\n",
    "f=d.items()\n",
    "print(f)"
   ]
  },
  {
   "cell_type": "code",
   "execution_count": 11,
   "metadata": {},
   "outputs": [
    {
     "name": "stdout",
     "output_type": "stream",
     "text": [
      "{1: 'keval', 3: 'Khushi'}\n"
     ]
    }
   ],
   "source": [
    "d={1:\"keval\",2:\"Harshal\",3:\"Khushi\"}\n",
    "f=d.pop(2)\n",
    "print(d)"
   ]
  },
  {
   "cell_type": "code",
   "execution_count": null,
   "metadata": {},
   "outputs": [],
   "source": []
  }
 ],
 "metadata": {
  "kernelspec": {
   "display_name": "Python 3",
   "language": "python",
   "name": "python3"
  },
  "language_info": {
   "codemirror_mode": {
    "name": "ipython",
    "version": 3
   },
   "file_extension": ".py",
   "mimetype": "text/x-python",
   "name": "python",
   "nbconvert_exporter": "python",
   "pygments_lexer": "ipython3",
   "version": "3.12.0"
  }
 },
 "nbformat": 4,
 "nbformat_minor": 2
}
