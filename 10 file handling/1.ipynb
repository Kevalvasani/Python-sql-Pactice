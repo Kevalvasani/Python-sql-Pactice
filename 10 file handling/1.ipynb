{
 "cells": [
  {
   "cell_type": "code",
   "execution_count": 1,
   "metadata": {},
   "outputs": [
    {
     "data": {
      "text/plain": [
       "['C:/Users/thinktanker/Desktop/keval_traning/10 file handling\\\\1.ipynb',\n",
       " 'C:/Users/thinktanker/Desktop/keval_traning/10 file handling\\\\135-SuperPremiumLongFormPaydayLoanLeads-Aliance-06-30-23.csv',\n",
       " 'C:/Users/thinktanker/Desktop/keval_traning/10 file handling\\\\data.csv',\n",
       " 'C:/Users/thinktanker/Desktop/keval_traning/10 file handling\\\\download (1).csv',\n",
       " 'C:/Users/thinktanker/Desktop/keval_traning/10 file handling\\\\download.csv',\n",
       " 'C:/Users/thinktanker/Desktop/keval_traning/10 file handling\\\\file.py',\n",
       " 'C:/Users/thinktanker/Desktop/keval_traning/10 file handling\\\\file.txt',\n",
       " 'C:/Users/thinktanker/Desktop/keval_traning/10 file handling\\\\next.txt',\n",
       " 'C:/Users/thinktanker/Desktop/keval_traning/10 file handling\\\\store.csv']"
      ]
     },
     "execution_count": 1,
     "metadata": {},
     "output_type": "execute_result"
    }
   ],
   "source": [
    "from glob import glob\n",
    "# import pandas as pd\n",
    "glob('C:/Users/thinktanker/Desktop/keval_traning/10 file handling/*')"
   ]
  },
  {
   "cell_type": "code",
   "execution_count": null,
   "metadata": {},
   "outputs": [],
   "source": []
  }
 ],
 "metadata": {
  "kernelspec": {
   "display_name": "Python 3",
   "language": "python",
   "name": "python3"
  },
  "language_info": {
   "codemirror_mode": {
    "name": "ipython",
    "version": 3
   },
   "file_extension": ".py",
   "mimetype": "text/x-python",
   "name": "python",
   "nbconvert_exporter": "python",
   "pygments_lexer": "ipython3",
   "version": "3.12.0"
  }
 },
 "nbformat": 4,
 "nbformat_minor": 2
}
